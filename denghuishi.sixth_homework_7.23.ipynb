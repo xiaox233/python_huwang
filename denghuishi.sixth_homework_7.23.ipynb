{
 "cells": [
  {
   "cell_type": "markdown",
   "metadata": {},
   "source": [
    "# 对象和类\n",
    "- 一个学生，一张桌子，一个圆都是对象\n",
    "- 对象是类的一个实例，你可以创建多个对象，创建类的一个实例过程被称为实例化，\n",
    "- 在Python中对象就是实例，而实例就是对象"
   ]
  },
  {
   "cell_type": "markdown",
   "metadata": {},
   "source": [
    "## 定义类\n",
    "class ClassName:\n",
    "\n",
    "    do something\n",
    "    \n",
    "- class 类的表示与def 一样\n",
    "- 类名最好使用驼峰式\n",
    "- 在Python2中类是需要继承基类object的，在Python中默认继承，可写可不写\n",
    "- 可以将普通代码理解为皮肤，而函数可以理解为内衣，那么类可以理解为外套"
   ]
  },
  {
   "cell_type": "code",
   "execution_count": 12,
   "metadata": {},
   "outputs": [],
   "source": [
    "# 类必须初始化，使用self,初始化自身\n",
    "# 类里边所有函数的第一个变量不再是参数，而是一个印记\n",
    "# 在类中如果有参数需要多次使用,可以将其设置为共享参数\n",
    "class Joker():\n",
    "    def __init__(self,num1,num2):\n",
    "        print('我初始化了')\n",
    "        # 参数共享\n",
    "        self.num1 = num1\n",
    "        self.num2 = num2\n",
    "        print(self.num1,self.num2)\n",
    "    def sum(self,name):\n",
    "        print(name)\n",
    "        return self.num1 + self.num2 "
   ]
  },
  {
   "cell_type": "code",
   "execution_count": 13,
   "metadata": {},
   "outputs": [
    {
     "name": "stdout",
     "output_type": "stream",
     "text": [
      "我初始化了\n"
     ]
    }
   ],
   "source": [
    "huwang = Joker() # 代表直接走初始化函数"
   ]
  },
  {
   "cell_type": "code",
   "execution_count": 14,
   "metadata": {},
   "outputs": [
    {
     "name": "stdout",
     "output_type": "stream",
     "text": [
      "Joker hh\n"
     ]
    }
   ],
   "source": [
    "huwang.Print_()"
   ]
  },
  {
   "cell_type": "code",
   "execution_count": 35,
   "metadata": {},
   "outputs": [],
   "source": [
    "class Liu():\n",
    "    def __init__(self):\n",
    "        pass\n",
    "    def panduanjo(self,num):\n",
    "        if num % 2 == 0:\n",
    "            print('奇数')\n",
    "        else:\n",
    "            print('偶数')\n",
    "    def pdnianfen(self,year):\n",
    "        if ((year % 4 == 0) and (year % 100 != 0)) or (year % 400 ==0):\n",
    "            print('366')\n",
    "        else:\n",
    "            print('365')"
   ]
  },
  {
   "cell_type": "code",
   "execution_count": 36,
   "metadata": {},
   "outputs": [],
   "source": [
    "huwang = Liu()"
   ]
  },
  {
   "cell_type": "code",
   "execution_count": 37,
   "metadata": {},
   "outputs": [
    {
     "name": "stdout",
     "output_type": "stream",
     "text": [
      "偶数\n"
     ]
    }
   ],
   "source": [
    "huwang.panduanjo(5)"
   ]
  },
  {
   "cell_type": "code",
   "execution_count": 38,
   "metadata": {},
   "outputs": [
    {
     "name": "stdout",
     "output_type": "stream",
     "text": [
      "365\n"
     ]
    }
   ],
   "source": [
    "huwang.pdnianfen(2019)"
   ]
  },
  {
   "cell_type": "markdown",
   "metadata": {},
   "source": [
    "## 定义一个不含初始化__init__的简单类\n",
    "class ClassName:\n",
    "\n",
    "    joker = “Home”\n",
    "    \n",
    "    def func():\n",
    "        print('Worker')\n",
    "    \n",
    "- 尽量少使用"
   ]
  },
  {
   "cell_type": "markdown",
   "metadata": {},
   "source": [
    "\n",
    "\n",
    "## 定义一个标准类\n",
    "- __init__ 代表初始化，可以初始化任何动作\n",
    "- 此时类调用要使用()，其中（）可以理解为开始初始化\n",
    "- 初始化内的元素，类中其他的函数可以共享\n",
    "![](../Photo/85.png)"
   ]
  },
  {
   "cell_type": "markdown",
   "metadata": {},
   "source": [
    "- Circle 和 className_ 的第一个区别有 __init__ 这个函数\n",
    "- 。。。。   第二个区别，类中的每一个函数都有self的这个“参数”"
   ]
  },
  {
   "cell_type": "markdown",
   "metadata": {},
   "source": [
    "## 何为self？\n",
    "- self 是指向对象本身的参数\n",
    "- self 只是一个命名规则，其实可以改变的，但是我们约定俗成的是self，也便于理解\n",
    "- 使用了self就可以访问类中定义的成员\n",
    "<img src=\"../Photo/86.png\"></img>"
   ]
  },
  {
   "cell_type": "markdown",
   "metadata": {},
   "source": [
    "## 使用类 Cirlcle"
   ]
  },
  {
   "cell_type": "markdown",
   "metadata": {},
   "source": [
    "## 类的传参\n",
    "- class ClassName:\n",
    "    \n",
    "        def __init__(self, para1,para2...)：\n",
    "            \n",
    "            self.para1 = para1\n",
    "            \n",
    "            self.para2 = para2"
   ]
  },
  {
   "cell_type": "markdown",
   "metadata": {},
   "source": [
    "## EP:\n",
    "- A：定义一个类，类中含有两个功能：\n",
    "    - 1、产生3个随机数，获取最大值\n",
    "    - 2、产生3个随机数，获取最小值\n",
    "- B：定义一个类，（类中函数的嵌套使用）\n",
    "    - 1、第一个函数的功能为：输入一个数字\n",
    "    - 2、第二个函数的功能为：使用第一个函数中得到的数字进行平方处理\n",
    "    - 3、第三个函数的功能为：得到平方处理后的数字 - 原来输入的数字，并打印结果"
   ]
  },
  {
   "cell_type": "code",
   "execution_count": 53,
   "metadata": {},
   "outputs": [],
   "source": [
    "import random\n",
    "class liui():\n",
    "    def __init__(self):\n",
    "        pass\n",
    "    def sjs_da(self):\n",
    "        a,b,c = [random.randint(0,10) for i in range(3)]\n",
    "        d = max(a,b,c)\n",
    "        print(a,b,c)\n",
    "        print(d)\n",
    "    "
   ]
  },
  {
   "cell_type": "code",
   "execution_count": 54,
   "metadata": {},
   "outputs": [],
   "source": [
    "huwang = liui()"
   ]
  },
  {
   "cell_type": "code",
   "execution_count": 55,
   "metadata": {},
   "outputs": [
    {
     "name": "stdout",
     "output_type": "stream",
     "text": [
      "0 5 7\n",
      "7\n"
     ]
    }
   ],
   "source": [
    "huwang.sjs_da()"
   ]
  },
  {
   "cell_type": "code",
   "execution_count": 88,
   "metadata": {},
   "outputs": [],
   "source": [
    "class liu1():\n",
    "    def __init__(self,num):\n",
    "        print('初始化')\n",
    "        self.num = num\n",
    "        print(self.num)\n",
    "    def hs1(self):\n",
    "        return self.num\n",
    "    def hs2(self):\n",
    "        self.num1 = self.num ** 2\n",
    "    def hs3(self):\n",
    "        num2 = self.num1 - self.num\n",
    "        return num2"
   ]
  },
  {
   "cell_type": "code",
   "execution_count": 89,
   "metadata": {},
   "outputs": [
    {
     "name": "stdout",
     "output_type": "stream",
     "text": [
      "初始化\n",
      "2\n"
     ]
    }
   ],
   "source": [
    "huwang = liu1(2)"
   ]
  },
  {
   "cell_type": "code",
   "execution_count": 90,
   "metadata": {},
   "outputs": [
    {
     "data": {
      "text/plain": [
       "2"
      ]
     },
     "execution_count": 90,
     "metadata": {},
     "output_type": "execute_result"
    }
   ],
   "source": [
    "huwang.hs1()"
   ]
  },
  {
   "cell_type": "code",
   "execution_count": 91,
   "metadata": {},
   "outputs": [],
   "source": [
    "huwang.hs2()"
   ]
  },
  {
   "cell_type": "code",
   "execution_count": 92,
   "metadata": {},
   "outputs": [
    {
     "data": {
      "text/plain": [
       "2"
      ]
     },
     "execution_count": 92,
     "metadata": {},
     "output_type": "execute_result"
    }
   ],
   "source": [
    "huwang.hs3()"
   ]
  },
  {
   "cell_type": "code",
   "execution_count": 31,
   "metadata": {},
   "outputs": [],
   "source": [
    "import random\n",
    "class liu2():\n",
    "    def __init__(self):\n",
    "        pass\n",
    "    def zh(self,num):\n",
    "        print(num)\n",
    "    def mm(self):\n",
    "        num2 = 456\n",
    "        num1 = eval(input('密码'))\n",
    "        if num1 == num2:\n",
    "            print('正确')\n",
    "        else:\n",
    "            print('错误')"
   ]
  },
  {
   "cell_type": "code",
   "execution_count": 32,
   "metadata": {},
   "outputs": [],
   "source": [
    "huwang = liu2()"
   ]
  },
  {
   "cell_type": "code",
   "execution_count": 33,
   "metadata": {},
   "outputs": [
    {
     "name": "stdout",
     "output_type": "stream",
     "text": [
      "123\n"
     ]
    }
   ],
   "source": [
    "huwang.zh(123)"
   ]
  },
  {
   "cell_type": "code",
   "execution_count": 34,
   "metadata": {},
   "outputs": [
    {
     "name": "stdout",
     "output_type": "stream",
     "text": [
      "密码123\n",
      "错误\n"
     ]
    }
   ],
   "source": [
    "huwang.mm()"
   ]
  },
  {
   "cell_type": "code",
   "execution_count": null,
   "metadata": {},
   "outputs": [],
   "source": []
  },
  {
   "cell_type": "code",
   "execution_count": null,
   "metadata": {},
   "outputs": [],
   "source": [
    "class liu3():\n",
    "    def __init__(self):\n",
    "        self.account = '123'\n",
    "        self.password = '123'\n",
    "    def Account(self):\n",
    "        self.accoun = input('请输入登录账号:>>')\n",
    "    def Password(self):\n",
    "        self.passwor = input('请输入密码:>>')        \n",
    "    def Check(self):\n",
    "        if self.passwor == self.password and self.passwor == self.password:\n",
    "            print('success')\n",
    "        else:\n",
    "            print('failed')\n",
    "    def yam(self):\n",
    "        yzm_ = 123\n",
    "        print()\n",
    "    def start(self):\n",
    "        self.Account()\n",
    "        self.Password()\n",
    "        self.Check()"
   ]
  },
  {
   "cell_type": "code",
   "execution_count": null,
   "metadata": {},
   "outputs": [],
   "source": []
  },
  {
   "cell_type": "code",
   "execution_count": null,
   "metadata": {},
   "outputs": [],
   "source": []
  },
  {
   "cell_type": "code",
   "execution_count": null,
   "metadata": {},
   "outputs": [],
   "source": []
  },
  {
   "cell_type": "code",
   "execution_count": null,
   "metadata": {},
   "outputs": [],
   "source": []
  },
  {
   "cell_type": "markdown",
   "metadata": {},
   "source": [
    "## 类的继承\n",
    "- 类的单继承\n",
    "- 类的多继承\n",
    "- 继承标识\n",
    ">  class SonClass(FatherClass):\n",
    "            \n",
    "            def __init__(self):\n",
    "            \n",
    "                FatherClass.__init__(self)"
   ]
  },
  {
   "cell_type": "code",
   "execution_count": 35,
   "metadata": {},
   "outputs": [],
   "source": [
    "class C:\n",
    "    def __init__(self):\n",
    "        self.__c = 'c'\n",
    "    def __c_(self):\n",
    "        print('class C')\n",
    "\n",
    "class A:\n",
    "    def __init__(self):\n",
    "        self.a = 'a'\n",
    "    def a_(self):\n",
    "        print('class A')\n",
    "       # 多继承，前面 覆盖后面自左向右\n",
    "        \n",
    "class B(C,A):\n",
    "    def __init__(self):\n",
    "        # 告诉A 即将继承 A\n",
    "        A.__init__(self)\n",
    "            # print(self.a)\n",
    "            # self.a_()\n",
    "    def b_(self):\n",
    "        print(self.a)\n",
    "        self.a_()"
   ]
  },
  {
   "cell_type": "code",
   "execution_count": 36,
   "metadata": {},
   "outputs": [],
   "source": [
    "bb = B()"
   ]
  },
  {
   "cell_type": "code",
   "execution_count": 37,
   "metadata": {},
   "outputs": [
    {
     "name": "stdout",
     "output_type": "stream",
     "text": [
      "class A\n"
     ]
    }
   ],
   "source": [
    "BB"
   ]
  },
  {
   "cell_type": "markdown",
   "metadata": {},
   "source": [
    "## 私有数据域(私有变量，或者私有函数)\n",
    "- 在Python中 变量名或者函数名使用双下划线代表私有  \\__Joker,   def \\__Joker():\n",
    "- 私有数据域不可继承\n",
    "- 私有数据域强制继承   \\__dir__()"
   ]
  },
  {
   "cell_type": "code",
   "execution_count": null,
   "metadata": {},
   "outputs": [],
   "source": [
    "私有变量，不可继承，不可再外部使用"
   ]
  },
  {
   "cell_type": "markdown",
   "metadata": {},
   "source": [
    "![](../Photo/87.png)"
   ]
  },
  {
   "cell_type": "markdown",
   "metadata": {},
   "source": [
    "## EP:\n",
    "![](../Photo/88.png)\n",
    "![](../Photo/89.png)\n",
    "![](../Photo/90.png)\n"
   ]
  },
  {
   "cell_type": "code",
   "execution_count": null,
   "metadata": {},
   "outputs": [],
   "source": [
    "class A:\n",
    "    def __init__(self,i)"
   ]
  },
  {
   "cell_type": "code",
   "execution_count": null,
   "metadata": {},
   "outputs": [],
   "source": []
  },
  {
   "cell_type": "code",
   "execution_count": null,
   "metadata": {},
   "outputs": [],
   "source": []
  },
  {
   "cell_type": "code",
   "execution_count": null,
   "metadata": {},
   "outputs": [],
   "source": []
  },
  {
   "cell_type": "markdown",
   "metadata": {},
   "source": [
    "## 类的其他\n",
    "- 类的封装\n",
    "    - 实际上就是将一类功能放在一起，方便未来进行管理\n",
    "- 类的继承（上面已经讲过）\n",
    "- 类的多态\n",
    "    - 包括装饰器：将放在以后处理高级类中教\n",
    "    - 装饰器的好处：当许多类中的函数需要使用同一个功能的时候，那么使用装饰器就会方便许多\n",
    "    - 装饰器是有固定的写法\n",
    "        - 其包括普通装饰器与带参装饰器"
   ]
  },
  {
   "cell_type": "markdown",
   "metadata": {},
   "source": [
    "# Homewor\n",
    "## UML类图可以不用画\n",
    "## UML 实际上就是一个思维图\n",
    "- 1\n",
    "![](../Photo/91.png)"
   ]
  },
  {
   "cell_type": "code",
   "execution_count": 45,
   "metadata": {},
   "outputs": [],
   "source": [
    "class Rectangle():\n",
    "    def __init__(self):\n",
    "        self.width = 1\n",
    "        self.height = 2\n",
    "        '''t设定初始值，宽为1，长为2，并且长和宽是共享参数'''\n",
    "    def geArea(self):\n",
    "        return self.width * self.height\n",
    "        '''返回矩形的面积'''\n",
    "    def getPerimater(self):\n",
    "        return 2*(self.width + self.height)\n",
    "        '''返回矩形的周长'''"
   ]
  },
  {
   "cell_type": "code",
   "execution_count": 46,
   "metadata": {},
   "outputs": [],
   "source": [
    "huwang = Rectangle()"
   ]
  },
  {
   "cell_type": "code",
   "execution_count": 47,
   "metadata": {},
   "outputs": [
    {
     "data": {
      "text/plain": [
       "2"
      ]
     },
     "execution_count": 47,
     "metadata": {},
     "output_type": "execute_result"
    }
   ],
   "source": [
    "huwang.getArea()"
   ]
  },
  {
   "cell_type": "code",
   "execution_count": 48,
   "metadata": {},
   "outputs": [
    {
     "data": {
      "text/plain": [
       "6"
      ]
     },
     "execution_count": 48,
     "metadata": {},
     "output_type": "execute_result"
    }
   ],
   "source": [
    "huwang.getPerimater()"
   ]
  },
  {
   "cell_type": "markdown",
   "metadata": {},
   "source": [
    "- 2\n",
    "![](../Photo/92.png)"
   ]
  },
  {
   "cell_type": "code",
   "execution_count": 65,
   "metadata": {},
   "outputs": [],
   "source": [
    "class Account():\n",
    "    def __init__(self):\n",
    "        pass\n",
    "        self.__id = eval(input('请输入id:>>'))\n",
    "        self.__balance = eval(input('请输入账户额:>>'))\n",
    "        self.__annuallnterestRate = eval(input('请输入年利率:>>'))\n",
    "        '''分别设置共享私有变量，使下面的函数可共享调用，可手动输入'''\n",
    "    def getMonthlyInterestRate(self):\n",
    "        self.monthlyInterestRate = self.__annuallnterestRate / 12\n",
    "        print(self.monthlyInterestRate)\n",
    "        '''利用公式计算月利率，并打印粗来'''\n",
    "    def getMonthlyInterest(self):\n",
    "        self.monthlyInterest = self.__balance * self.monthlyInterestRate\n",
    "        print(self.monthlyInterest)\n",
    "        '''利用公式计算月利息'''\n",
    "    def withdraw(self,x):\n",
    "        self.yue1 = self.__balance - x\n",
    "        print(self.yue1)\n",
    "    def deposit(self,y):\n",
    "        yue2 = self.yue1 + y\n",
    "        print(yue2)"
   ]
  },
  {
   "cell_type": "code",
   "execution_count": 66,
   "metadata": {},
   "outputs": [
    {
     "name": "stdout",
     "output_type": "stream",
     "text": [
      "请输入id:>>1122\n",
      "请输入账户额:>>20000\n",
      "请输入年利率:>>0.045\n"
     ]
    }
   ],
   "source": [
    "huwang = Account()"
   ]
  },
  {
   "cell_type": "code",
   "execution_count": 67,
   "metadata": {},
   "outputs": [
    {
     "name": "stdout",
     "output_type": "stream",
     "text": [
      "0.00375\n"
     ]
    }
   ],
   "source": [
    "huwang.getMonthlyInterestRate()"
   ]
  },
  {
   "cell_type": "code",
   "execution_count": 68,
   "metadata": {},
   "outputs": [
    {
     "name": "stdout",
     "output_type": "stream",
     "text": [
      "75.0\n"
     ]
    }
   ],
   "source": [
    "huwang.getMonthlyInterest()"
   ]
  },
  {
   "cell_type": "code",
   "execution_count": 69,
   "metadata": {},
   "outputs": [
    {
     "name": "stdout",
     "output_type": "stream",
     "text": [
      "17500\n"
     ]
    }
   ],
   "source": [
    "huwang.withdraw(2500)"
   ]
  },
  {
   "cell_type": "code",
   "execution_count": 70,
   "metadata": {},
   "outputs": [
    {
     "name": "stdout",
     "output_type": "stream",
     "text": [
      "20500\n"
     ]
    }
   ],
   "source": [
    "huwang.deposit(3000)"
   ]
  },
  {
   "cell_type": "markdown",
   "metadata": {},
   "source": [
    "- 3\n",
    "![](../Photo/93.png)"
   ]
  },
  {
   "cell_type": "code",
   "execution_count": 8,
   "metadata": {},
   "outputs": [],
   "source": [
    "class Fan():\n",
    "    def __init__(self):\n",
    "        SLOW = 1\n",
    "        MEDIUM = 2\n",
    "        FAST = 3\n",
    "    def fan1(self,__speed,__radius,__color):\n",
    "        __speed = input('输入速度:>>')\n",
    "        __radius = eval(input('请输入半径:>>'))\n",
    "        __color = input('请输入颜色')\n",
    "        print(__speed,__radius,__color)\n",
    "    def fan2(self,__speed,__radius,__color):\n",
    "        __speed = input('输入速度:>>')\n",
    "        __radius = eval(input('请输入半径:>>'))\n",
    "        __color = input('请输入颜色')\n",
    "        print(__speed,__radius,__color)\n",
    "        '''定义私有变量，分别输入速度、半径和颜色'''"
   ]
  },
  {
   "cell_type": "code",
   "execution_count": 9,
   "metadata": {},
   "outputs": [],
   "source": [
    "huwang = Fan()"
   ]
  },
  {
   "cell_type": "code",
   "execution_count": 3,
   "metadata": {},
   "outputs": [
    {
     "name": "stdout",
     "output_type": "stream",
     "text": [
      "输入速度:>>max_speed\n",
      "请输入半径:>>10\n",
      "请输入颜色yellow\n",
      "max_speed 10 yellow\n"
     ]
    }
   ],
   "source": [
    "huwang.fan1('max_speed',10,'yellow')"
   ]
  },
  {
   "cell_type": "code",
   "execution_count": 10,
   "metadata": {},
   "outputs": [
    {
     "name": "stdout",
     "output_type": "stream",
     "text": [
      "输入速度:>>middle_speed\n",
      "请输入半径:>>5\n",
      "请输入颜色blue\n",
      "middle_speed 5 blue\n"
     ]
    }
   ],
   "source": [
    "huwang.fan2('middle_speed',5,'blue')"
   ]
  },
  {
   "cell_type": "markdown",
   "metadata": {},
   "source": [
    "- 4\n",
    "![](../Photo/94.png)\n",
    "![](../Photo/95.png)"
   ]
  },
  {
   "cell_type": "code",
   "execution_count": 11,
   "metadata": {},
   "outputs": [],
   "source": [
    "import math\n",
    "class RegularPolygon():\n",
    "    def __init__(self):\n",
    "        self.n = eval(input('请输入多边形的边数'))\n",
    "        self.side = eval(input('请输入多边形的长度'))\n",
    "        x = eval(input('请输入x轴坐标值'))\n",
    "        y = eval(input('请输入y轴坐标值'))\n",
    "        '''定义参数变量'''\n",
    "    def getPerimeter(self):\n",
    "        c = self.n * self.side\n",
    "        '''利用公式计算'''\n",
    "        print(c)\n",
    "    def getArea(self):\n",
    "        s = self.n * s ** 2 / (4 * math.tan(math.pi / self.n))\n",
    "        print(s)"
   ]
  },
  {
   "cell_type": "code",
   "execution_count": 12,
   "metadata": {},
   "outputs": [
    {
     "name": "stdout",
     "output_type": "stream",
     "text": [
      "请输入多边形的边数5\n",
      "请输入多边形的长度4\n",
      "请输入x轴坐标值1\n",
      "请输入y轴坐标值1\n"
     ]
    }
   ],
   "source": [
    "huwang = RegularPolygon()"
   ]
  },
  {
   "cell_type": "code",
   "execution_count": 13,
   "metadata": {},
   "outputs": [
    {
     "name": "stdout",
     "output_type": "stream",
     "text": [
      "20\n"
     ]
    }
   ],
   "source": [
    "huwang.getPerimeter()"
   ]
  },
  {
   "cell_type": "markdown",
   "metadata": {},
   "source": [
    "- 5\n",
    "![](../Photo/96.png)"
   ]
  },
  {
   "cell_type": "code",
   "execution_count": 16,
   "metadata": {},
   "outputs": [],
   "source": [
    "class LinearEquation():\n",
    "    def __init__(self):\n",
    "        self.a = eval(input('请输入a:>>'))\n",
    "        self.b = eval(input('请输入b:>>'))\n",
    "        self.c = eval(input('请输入c:>>'))\n",
    "        self.d = eval(input('请输入d:>>'))\n",
    "        self.e = eval(input('请输入e:>>'))\n",
    "        self.f = eval(input('请输入f:>>'))\n",
    "        '''定义参数变量'''\n",
    "    def isSolvable(self):\n",
    "        if self.a*self.d - self.b*self.c != 0:\n",
    "            print('true')\n",
    "        else:\n",
    "            print('方程无解')\n",
    "    def getX(self):\n",
    "        x = (self.e*self.d - self.b*self.f) / (self.a*self.d - self.b*self.c)\n",
    "        '''利用公式计算x'''\n",
    "        print(x)\n",
    "    def getY(self):\n",
    "        y = (self.a*self.f - self.e*self.c) / (self.a*self.d - self.b*self.c)\n",
    "        print(y)"
   ]
  },
  {
   "cell_type": "code",
   "execution_count": 17,
   "metadata": {},
   "outputs": [
    {
     "name": "stdout",
     "output_type": "stream",
     "text": [
      "请输入a:>>2\n",
      "请输入b:>>3\n",
      "请输入c:>>1\n",
      "请输入d:>>4\n",
      "请输入e:>>5\n",
      "请输入f:>>1\n"
     ]
    }
   ],
   "source": [
    "huwang = LinearEquation()"
   ]
  },
  {
   "cell_type": "code",
   "execution_count": 18,
   "metadata": {},
   "outputs": [
    {
     "name": "stdout",
     "output_type": "stream",
     "text": [
      "true\n"
     ]
    }
   ],
   "source": [
    "huwang.isSolvable()"
   ]
  },
  {
   "cell_type": "code",
   "execution_count": 19,
   "metadata": {},
   "outputs": [
    {
     "name": "stdout",
     "output_type": "stream",
     "text": [
      "3.4\n"
     ]
    }
   ],
   "source": [
    "huwang.getX()"
   ]
  },
  {
   "cell_type": "code",
   "execution_count": 20,
   "metadata": {},
   "outputs": [
    {
     "name": "stdout",
     "output_type": "stream",
     "text": [
      "-0.6\n"
     ]
    }
   ],
   "source": [
    "huwang.getY()"
   ]
  },
  {
   "cell_type": "markdown",
   "metadata": {},
   "source": [
    "- 6\n",
    "![](../Photo/97.png)"
   ]
  },
  {
   "cell_type": "code",
   "execution_count": 4,
   "metadata": {},
   "outputs": [],
   "source": [
    "class Jhx():\n",
    "    def  __init__(self):\n",
    "        self.x1,self.y1 = eval(input('请输入x1,y1:>>'))\n",
    "        self.x2,self.y2 = eval(input('请输入x2,y2:>>'))\n",
    "        self.x3,self.y3 = eval(input('请输入x3,y3:>>'))\n",
    "        self.x4,self.y4 = eval(input('请输入x4,y4:>>'))\n",
    "    def hs1(self):\n",
    "        k1 = (self.y2 - self.y1)/(self.x2 - self.x1)\n",
    "        b1 = self.y1 - k1 * self.x1\n",
    "        k2 = (self.y3 - self.y4)/(self.x3 - self.x4)\n",
    "        b2 = self.y3 - k2 * self.x3\n",
    "        x = (b2 - b1)/(k1 - k2)\n",
    "        y = k1 * x + b1\n",
    "        print(x,y)\n",
    "        '''根据公式(y-y1) / (y2-y1) = (x-x1) / (x2 -x1)和 \n",
    "            k = (y2 - y1) / (x2 - x1)变形得出'''"
   ]
  },
  {
   "cell_type": "code",
   "execution_count": 5,
   "metadata": {},
   "outputs": [
    {
     "name": "stdout",
     "output_type": "stream",
     "text": [
      "请输入x1,y1:>>2,1\n",
      "请输入x2,y2:>>1,2\n",
      "请输入x3,y3:>>4,0\n",
      "请输入x4,y4:>>3,0\n"
     ]
    }
   ],
   "source": [
    "huwang = Jhx()"
   ]
  },
  {
   "cell_type": "code",
   "execution_count": 6,
   "metadata": {},
   "outputs": [
    {
     "name": "stdout",
     "output_type": "stream",
     "text": [
      "3.0 0.0\n"
     ]
    }
   ],
   "source": [
    "huwang.hs1()"
   ]
  },
  {
   "cell_type": "code",
   "execution_count": null,
   "metadata": {},
   "outputs": [],
   "source": []
  },
  {
   "cell_type": "markdown",
   "metadata": {},
   "source": [
    "- 7\n",
    "![](../Photo/98.png)"
   ]
  },
  {
   "cell_type": "code",
   "execution_count": null,
   "metadata": {},
   "outputs": [],
   "source": [
    "同上！！出两遍了~~~"
   ]
  }
 ],
 "metadata": {
  "kernelspec": {
   "display_name": "Python 3",
   "language": "python",
   "name": "python3"
  },
  "language_info": {
   "codemirror_mode": {
    "name": "ipython",
    "version": 3
   },
   "file_extension": ".py",
   "mimetype": "text/x-python",
   "name": "python",
   "nbconvert_exporter": "python",
   "pygments_lexer": "ipython3",
   "version": "3.7.3"
  }
 },
 "nbformat": 4,
 "nbformat_minor": 2
}
