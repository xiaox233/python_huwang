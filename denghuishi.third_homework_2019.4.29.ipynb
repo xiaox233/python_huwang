{
 "cells": [
  {
   "cell_type": "markdown",
   "metadata": {},
   "source": [
    "# 选择\n",
    "## 布尔类型、数值和表达式\n",
    "![](../Photo/33.png)\n",
    "- 注意：比较运算符的相等是两个等号，一个等到代表赋值\n",
    "- 在Python中可以用整型0来代表False，其他数字来代表True\n",
    "- 后面还会讲到 is 在判断语句中的用发"
   ]
  },
  {
   "cell_type": "code",
   "execution_count": 12,
   "metadata": {},
   "outputs": [
    {
     "data": {
      "text/plain": [
       "False"
      ]
     },
     "execution_count": 12,
     "metadata": {},
     "output_type": "execute_result"
    }
   ],
   "source": [
    "0 is 1"
   ]
  },
  {
   "cell_type": "markdown",
   "metadata": {},
   "source": [
    "## 字符串的比较使用ASCII值"
   ]
  },
  {
   "cell_type": "code",
   "execution_count": 15,
   "metadata": {},
   "outputs": [
    {
     "data": {
      "text/plain": [
       "True"
      ]
     },
     "execution_count": 15,
     "metadata": {},
     "output_type": "execute_result"
    }
   ],
   "source": [
    "a = 'Joker'\n",
    "b = 'Jahah'\n",
    "a>b"
   ]
  },
  {
   "cell_type": "markdown",
   "metadata": {},
   "source": [
    "## Markdown \n",
    "- https://github.com/younghz/Markdown"
   ]
  },
  {
   "cell_type": "markdown",
   "metadata": {},
   "source": [
    "## EP:\n",
    "- <img src=\"../Photo/34.png\"></img>\n",
    "- 输入一个数字，判断其实奇数还是偶数"
   ]
  },
  {
   "cell_type": "code",
   "execution_count": 28,
   "metadata": {},
   "outputs": [
    {
     "name": "stdout",
     "output_type": "stream",
     "text": [
      "X:[*]2\n",
      "偶数\n"
     ]
    }
   ],
   "source": [
    "x = eval(input('X:[*]'))\n",
    "if  bool(x%2):\n",
    "    print('奇数')\n",
    "else:\n",
    "    print('偶数')"
   ]
  },
  {
   "cell_type": "markdown",
   "metadata": {},
   "source": [
    "## 产生随机数字\n",
    "- 函数random.randint(a,b) 可以用来产生一个a和b之间且包括a和b的随机整数"
   ]
  },
  {
   "cell_type": "code",
   "execution_count": 29,
   "metadata": {},
   "outputs": [],
   "source": [
    "import random"
   ]
  },
  {
   "cell_type": "code",
   "execution_count": 32,
   "metadata": {},
   "outputs": [
    {
     "data": {
      "text/plain": [
       "3"
      ]
     },
     "execution_count": 32,
     "metadata": {},
     "output_type": "execute_result"
    }
   ],
   "source": [
    "random.randint(2,3)"
   ]
  },
  {
   "cell_type": "markdown",
   "metadata": {},
   "source": [
    "产生一个随机数，你去输入，如果你输入的数大于随机数，那么就告诉你太大了，反之，太小了，\n",
    "然后你一直输入，知道它满意为止"
   ]
  },
  {
   "cell_type": "code",
   "execution_count": 33,
   "metadata": {},
   "outputs": [],
   "source": [
    "x = random.randint(0,10)"
   ]
  },
  {
   "cell_type": "code",
   "execution_count": 38,
   "metadata": {},
   "outputs": [],
   "source": [
    "import os"
   ]
  },
  {
   "cell_type": "code",
   "execution_count": 40,
   "metadata": {
    "collapsed": true
   },
   "outputs": [
    {
     "name": "stdout",
     "output_type": "stream",
     "text": [
      "y1\n",
      "太大了\n",
      "y2\n",
      "太大了\n",
      "y0\n",
      "正确\n"
     ]
    }
   ],
   "source": [
    "while 1:\n",
    "    y = eval(input('y'))\n",
    "    if y > x:\n",
    "        print('太大了')\n",
    "    if y < x:\n",
    "        print('太小了')\n",
    "    if y == x:\n",
    "        print('正确')\n",
    "        break"
   ]
  },
  {
   "cell_type": "markdown",
   "metadata": {},
   "source": [
    "##  其他random方法\n",
    "- random.random 返回0.0到1.0之间前闭后开区间的随机浮点\n",
    "- random.randrange(a,b) 前闭后开"
   ]
  },
  {
   "cell_type": "code",
   "execution_count": 41,
   "metadata": {
    "scrolled": true
   },
   "outputs": [
    {
     "data": {
      "text/plain": [
       "0.7909705375907085"
      ]
     },
     "execution_count": 41,
     "metadata": {},
     "output_type": "execute_result"
    }
   ],
   "source": [
    "random.random()"
   ]
  },
  {
   "cell_type": "code",
   "execution_count": 48,
   "metadata": {},
   "outputs": [
    {
     "data": {
      "text/plain": [
       "0"
      ]
     },
     "execution_count": 48,
     "metadata": {},
     "output_type": "execute_result"
    }
   ],
   "source": [
    "random.randrange(0,10)"
   ]
  },
  {
   "cell_type": "markdown",
   "metadata": {},
   "source": [
    "## EP：\n",
    "- 产生两个随机整数number1和number2，然后显示给用户，使用户输入数字的和，并判定其是否正确\n",
    "- 进阶:写一个随机序号点名程序"
   ]
  },
  {
   "cell_type": "code",
   "execution_count": 52,
   "metadata": {
    "collapsed": true
   },
   "outputs": [
    {
     "name": "stdout",
     "output_type": "stream",
     "text": [
      "0 1\n"
     ]
    }
   ],
   "source": [
    "number1 = random.randint(0,10)\n",
    "number2 = random.randint(0,10)\n",
    "print(number1,number2)"
   ]
  },
  {
   "cell_type": "code",
   "execution_count": 55,
   "metadata": {},
   "outputs": [
    {
     "name": "stdout",
     "output_type": "stream",
     "text": [
      "x2\n",
      "Error\n",
      "x4\n",
      "Error\n",
      "x5\n",
      "Error\n",
      "x6\n",
      "Error\n",
      "x7\n",
      "Error\n"
     ]
    }
   ],
   "source": [
    "for i in range(5):\n",
    "    x = eval(input('x'))\n",
    "    if x == (number1 + number2):\n",
    "        print('Correct')\n",
    "        break\n",
    "    else:\n",
    "        print('Error')"
   ]
  },
  {
   "cell_type": "code",
   "execution_count": 54,
   "metadata": {
    "collapsed": true
   },
   "outputs": [
    {
     "name": "stdout",
     "output_type": "stream",
     "text": [
      "0\n",
      "1\n",
      "2\n",
      "3\n",
      "4\n",
      "5\n",
      "6\n",
      "7\n",
      "8\n",
      "9\n"
     ]
    }
   ],
   "source": [
    "for i in range(10):\n",
    "    x = eval(input('x'))\n",
    "    if x == (number1 + number2):\n",
    "        print('Correct')\n",
    "        break\n",
    "    else:\n",
    "        print('Error')"
   ]
  },
  {
   "cell_type": "code",
   "execution_count": 59,
   "metadata": {},
   "outputs": [
    {
     "name": "stdout",
     "output_type": "stream",
     "text": [
      "x10\n",
      "2 可以整除\n",
      "5 可以整除\n"
     ]
    }
   ],
   "source": [
    "x = eval(input('x'))\n",
    "\n",
    "for i in range(2,x):\n",
    "    if x%i == 0:\n",
    "        print(i,'可以整除')"
   ]
  },
  {
   "cell_type": "code",
   "execution_count": null,
   "metadata": {},
   "outputs": [],
   "source": []
  },
  {
   "cell_type": "markdown",
   "metadata": {},
   "source": [
    "## if语句\n",
    "- 如果条件正确就执行一个单向if语句，亦即当条件为真的时候才执行if内部的语句\n",
    "- Python有很多选择语句:\n",
    "> - 单向if \n",
    "  - 双向if-else\n",
    "  - 嵌套if\n",
    "  - 多向if-elif-else\n",
    "  \n",
    "- 注意：当语句含有子语句的时候，那么一定至少要有一个缩进，也就是说如果有儿子存在，那么一定要缩进\n",
    "- 切记不可tab键和space混用，单用tab 或者 space\n",
    "- 当你输出的结果是无论if是否为真时都需要显示时，语句应该与if对齐"
   ]
  },
  {
   "cell_type": "code",
   "execution_count": 3,
   "metadata": {},
   "outputs": [
    {
     "name": "stdout",
     "output_type": "stream",
     "text": [
      ">>2\n",
      "偶数\n",
      "运行完毕\n"
     ]
    }
   ],
   "source": [
    "x = eval(input('>>'))\n",
    "if x % 2 == 0:\n",
    "    print('偶数')\n",
    "else:\n",
    "    print('奇数')\n",
    "print('运行完毕')"
   ]
  },
  {
   "cell_type": "markdown",
   "metadata": {},
   "source": [
    "## EP：\n",
    "- 用户输入一个数字，判断其实奇数还是偶数\n",
    "- 进阶：可以查看下4.5实例研究猜生日"
   ]
  },
  {
   "cell_type": "markdown",
   "metadata": {},
   "source": [
    "## 双向if-else 语句\n",
    "- 如果条件为真，那么走if内部语句，否则走else内部语句"
   ]
  },
  {
   "cell_type": "code",
   "execution_count": null,
   "metadata": {},
   "outputs": [],
   "source": [
    "if condition:\n",
    "    if con:\n",
    "        do something\n",
    "    else:\n",
    "        other\n",
    "    do something\n",
    "else:\n",
    "    other"
   ]
  },
  {
   "cell_type": "code",
   "execution_count": 5,
   "metadata": {},
   "outputs": [
    {
     "name": "stdout",
     "output_type": "stream",
     "text": [
      "Money[y/n]y\n",
      "在问一个问题~\n",
      "Handsome[y/n]y\n",
      "非常关键的一个问题\n",
      "wife[y/n]y\n",
      "马上结婚~\n"
     ]
    }
   ],
   "source": [
    "money = input('Money[y/n]')\n",
    "if money =='y':\n",
    "    print('在问一个问题~')\n",
    "    handsome = input('Handsome[y/n]')\n",
    "    if handsome == 'y':\n",
    "        print('非常关键的一个问题')\n",
    "        wife = input('wife[y/n]')\n",
    "        if wife == 'y':\n",
    "            print('不拒绝')\n",
    "        else:\n",
    "            print('马上结婚~')\n",
    "    else:\n",
    "        print('考虑一下')\n",
    "else:\n",
    "    print('Gun~')"
   ]
  },
  {
   "cell_type": "markdown",
   "metadata": {},
   "source": [
    "## EP：\n",
    "- 产生两个随机整数number1和number2，然后显示给用户，使用户输入数字，并判定其是否正确,如果正确打印“you‘re correct”，否则打印正确错误"
   ]
  },
  {
   "cell_type": "markdown",
   "metadata": {},
   "source": [
    "## 嵌套if 和多向if-elif-else\n",
    "![](../Photo/35.png)"
   ]
  },
  {
   "cell_type": "code",
   "execution_count": 6,
   "metadata": {},
   "outputs": [
    {
     "name": "stdout",
     "output_type": "stream",
     "text": [
      "A\n"
     ]
    }
   ],
   "source": [
    "score = 90\n",
    "if score >= 90:\n",
    "    grad = 'A'\n",
    "elif score>=80:\n",
    "    grad = 'B'\n",
    "elif score>=70:\n",
    "    grad = \"C\"\n",
    "else:\n",
    "    grad = 'D'\n",
    "    \n",
    "print(grad)"
   ]
  },
  {
   "cell_type": "code",
   "execution_count": 12,
   "metadata": {},
   "outputs": [
    {
     "name": "stdout",
     "output_type": "stream",
     "text": [
      "钱?[0/1]0\n",
      "帅?[0/1]1\n",
      "老婆?[0/1]1\n",
      "滚\n"
     ]
    }
   ],
   "source": [
    "x1 = eval(input('钱?[0/1]'))\n",
    "x2 = eval(input('帅?[0/1]'))\n",
    "x3 = eval(input('老婆?[0/1]'))\n",
    "\n",
    "X = x1 + x2 + x3\n",
    "if X == 0:\n",
    "    print('滚')\n",
    "if X == 2:\n",
    "    if x1 == 0:\n",
    "        print('滚')\n",
    "    elif x2 == 0:\n",
    "        print('考虑一下')\n",
    "    elif x3 == 0:\n",
    "        print('马上结婚')\n",
    "elif X == 3:\n",
    "    print('有老婆,也要考虑一下')"
   ]
  },
  {
   "cell_type": "code",
   "execution_count": null,
   "metadata": {},
   "outputs": [],
   "source": [
    "x1 = eval(input('钱?[0/1]'))\n",
    "if x1 == 1:\n",
    "    x2 = eval(input('帅?[0/1]'))\n",
    "    if x2 == 1:\n",
    "        x3 = eval(input('老婆?[0/1]'))\n",
    "        if x3 == 1:\n",
    "            print('原配变小三')\n",
    "        elif x3 == 0:\n",
    "            print('马上结婚')\n",
    "    elif x2 == 0:\n",
    "        print('考虑一下')\n",
    "elif x1==0:\n",
    "    print('滚')"
   ]
  },
  {
   "cell_type": "markdown",
   "metadata": {},
   "source": [
    "## EP：\n",
    "- 提示用户输入一个年份，然后显示表示这一年的动物\n",
    "![](../Photo/36.png)\n",
    "- 计算身体质量指数的程序\n",
    "- BMI = 以千克为单位的体重除以以米为单位的身高的平方\n",
    "![](../Photo/37.png)"
   ]
  },
  {
   "cell_type": "code",
   "execution_count": 13,
   "metadata": {},
   "outputs": [
    {
     "name": "stdout",
     "output_type": "stream",
     "text": [
      "YEAR1997\n",
      "🐂\n"
     ]
    }
   ],
   "source": [
    "year = eval(input('YEAR'))\n",
    "res = year % 12\n",
    "if res == 0 :\n",
    "    print('🐵')\n",
    "elif res == 1:\n",
    "    print('🐔')\n",
    "elif res == 2 :\n",
    "    print('🐩')\n",
    "elif res == 3 :\n",
    "    print('🐷')\n",
    "elif res == 4 :\n",
    "    print('🐭')\n",
    "elif res == 5 :\n",
    "    print('🐂')\n",
    "elif res == 6 :\n",
    "    print('🐯')\n",
    "elif res == 7 :\n",
    "    print('🐰')\n",
    "elif res == 8 :\n",
    "    print('🐲')\n",
    "elif res == 9 :\n",
    "    print('🐍')\n",
    "elif res == 10 :\n",
    "    print('🐴')\n",
    "elif res == 11 :\n",
    "    print('🐑')"
   ]
  },
  {
   "cell_type": "code",
   "execution_count": 1,
   "metadata": {},
   "outputs": [
    {
     "name": "stdout",
     "output_type": "stream",
     "text": [
      "100\n"
     ]
    }
   ],
   "source": [
    "刘 = 100\n",
    "print(刘)"
   ]
  },
  {
   "cell_type": "code",
   "execution_count": 16,
   "metadata": {},
   "outputs": [
    {
     "name": "stdout",
     "output_type": "stream",
     "text": [
      "身高1.70\n",
      "体重55\n",
      "标准\n"
     ]
    }
   ],
   "source": [
    "身高 = eval(input('身高'))\n",
    "体重 = eval(input('体重'))\n",
    "BMI = 体重 / 身高**2\n",
    "if BMI<18.5:\n",
    "    print('超清')\n",
    "elif 18.5<=BMI<25:\n",
    "    print('标准')\n",
    "elif 25<=BMI<30:\n",
    "    print('超重')\n",
    "else:\n",
    "    print('超级胖胖')"
   ]
  },
  {
   "cell_type": "markdown",
   "metadata": {},
   "source": [
    "## 逻辑运算符\n",
    "![](../Photo/38.png)"
   ]
  },
  {
   "cell_type": "markdown",
   "metadata": {},
   "source": [
    "![](../Photo/39.png)\n",
    "![](../Photo/40.png)"
   ]
  },
  {
   "cell_type": "markdown",
   "metadata": {},
   "source": [
    "## EP：\n",
    "- 判定闰年：一个年份如果能被4整除但不能被100整除，或者能被400整除，那么这个年份就是闰年\n",
    "- 提示用户输入一个年份，并返回是否是闰年\n",
    "- 提示用户输入一个数字，判断其是否为水仙花数"
   ]
  },
  {
   "cell_type": "code",
   "execution_count": 18,
   "metadata": {},
   "outputs": [
    {
     "name": "stdout",
     "output_type": "stream",
     "text": [
      "年份2009\n",
      "平年\n"
     ]
    }
   ],
   "source": [
    "year = eval(input('年份'))\n",
    "\n",
    "if (year % 4 == 0 and year%100 !=0) or (year % 400 == 0):\n",
    "    print('闰年')\n",
    "else:\n",
    "    print('平年')"
   ]
  },
  {
   "cell_type": "code",
   "execution_count": 20,
   "metadata": {},
   "outputs": [
    {
     "name": "stdout",
     "output_type": "stream",
     "text": [
      "数字154\n"
     ]
    }
   ],
   "source": [
    "number = eval(input('数字'))\n",
    "bai = number // 100\n",
    "shi = number // 10 % 10\n",
    "ge = number %10\n",
    "\n",
    "if bai **3  + shi **3 + ge ** 3 == number:\n",
    "    print('水鲜花')"
   ]
  },
  {
   "cell_type": "code",
   "execution_count": 21,
   "metadata": {},
   "outputs": [
    {
     "name": "stdout",
     "output_type": "stream",
     "text": [
      "153 水鲜花\n",
      "370 水鲜花\n",
      "371 水鲜花\n",
      "407 水鲜花\n"
     ]
    }
   ],
   "source": [
    "for number in range(100,1000):\n",
    "    bai = number // 100\n",
    "    shi = number // 10 % 10\n",
    "    ge = number %10\n",
    "    if bai **3  + shi **3 + ge ** 3 == number:\n",
    "        print(number,'水鲜花')"
   ]
  },
  {
   "cell_type": "markdown",
   "metadata": {},
   "source": [
    "## 实例研究：彩票\n",
    "![](../Photo/41.png)"
   ]
  },
  {
   "cell_type": "markdown",
   "metadata": {},
   "source": [
    "# Homework\n",
    "- 1\n",
    "![](../Photo/42.png)"
   ]
  },
  {
   "cell_type": "code",
   "execution_count": 6,
   "metadata": {},
   "outputs": [
    {
     "name": "stdout",
     "output_type": "stream",
     "text": [
      "输入a的值1\n",
      "输入b的值2.0\n",
      "输入c的值1\n",
      "The root is -1.0\n",
      "输入a的值1.0\n",
      "输入b的值3\n",
      "输入c的值1\n",
      "The roots are -0.3819660112501051 -2.618033988749895\n",
      "输入a的值1\n",
      "输入b的值2\n",
      "输入c的值3\n",
      "The equation has no real roots\n"
     ]
    }
   ],
   "source": [
    "for i in range (0,3):\n",
    "    a = eval(input('输入a的值'))\n",
    "    b = eval(input('输入b的值'))\n",
    "    c = eval(input('输入c的值'))\n",
    "    x = (b ** 2 - 4 * a * c)\n",
    "    y1 = (-b + x ** (1/2)) / 2*a\n",
    "    y2 = (-b - x ** (1/2))/ 2*a\n",
    "    if x == 0:\n",
    "        print('The root is',y1)\n",
    "    elif x > 0:\n",
    "        print('The roots are',y1,y2)\n",
    "    else:\n",
    "        print('The equation has no real roots')"
   ]
  },
  {
   "cell_type": "markdown",
   "metadata": {},
   "source": [
    "- 2\n",
    "![](../Photo/43.png)"
   ]
  },
  {
   "cell_type": "code",
   "execution_count": 10,
   "metadata": {},
   "outputs": [],
   "source": [
    "import random"
   ]
  },
  {
   "cell_type": "code",
   "execution_count": 11,
   "metadata": {},
   "outputs": [
    {
     "name": "stdout",
     "output_type": "stream",
     "text": [
      "39 1\n",
      "x4\n",
      "Error\n"
     ]
    }
   ],
   "source": [
    "number1 = random.randint(0,100)\n",
    "number2 = random.randint(0,100)\n",
    "print(number1,number2)\n",
    "x = eval(input('x'))\n",
    "if x == (number1 + number2):\n",
    "    print('Correct')\n",
    "else:\n",
    "    print('Error')"
   ]
  },
  {
   "cell_type": "markdown",
   "metadata": {},
   "source": [
    "- 3\n",
    "![](../Photo/44.png)"
   ]
  },
  {
   "cell_type": "code",
   "execution_count": 16,
   "metadata": {},
   "outputs": [
    {
     "name": "stdout",
     "output_type": "stream",
     "text": [
      "输入星期几4\n",
      "输入加几天7\n",
      "星期 4\n"
     ]
    }
   ],
   "source": [
    "today = eval(input('输入星期几'))\n",
    "plus_day = eval(input('输入加几天'))\n",
    "future_day = today + plus_day\n",
    "future_week = future_day % 7\n",
    "print('星期',future_week)"
   ]
  },
  {
   "cell_type": "markdown",
   "metadata": {},
   "source": [
    "- 4\n",
    "![](../Photo/45.png)"
   ]
  },
  {
   "cell_type": "code",
   "execution_count": 26,
   "metadata": {},
   "outputs": [
    {
     "name": "stdout",
     "output_type": "stream",
     "text": [
      "请输入第一个任意整数：4\n",
      "请输入第二个任意整数：5\n",
      "请输入第三个任意整数；6\n",
      "4 5 6\n"
     ]
    }
   ],
   "source": [
    "a = eval(input(\"请输入第一个任意整数：\"))\n",
    "b = eval(input(\"请输入第二个任意整数：\"))\n",
    "c = eval(input(\"请输入第三个任意整数；\"))\n",
    "if a < b < c:\n",
    "    print(a,b,c)\n",
    "elif a < c < b:\n",
    "    print(a,c,b)\n",
    "elif b < a < c:\n",
    "    print(b,a,c)\n",
    "elif b < c < a:\n",
    "    print(b,c,a)\n",
    "elif c < b < a:\n",
    "    print(c,b,a)\n",
    "elif c < a < b:\n",
    "    print(c,a,b)\n",
    "else:\n",
    "    print(a,b,c)"
   ]
  },
  {
   "cell_type": "markdown",
   "metadata": {},
   "source": [
    "- 5\n",
    "![](../Photo/46.png)"
   ]
  },
  {
   "cell_type": "code",
   "execution_count": 19,
   "metadata": {},
   "outputs": [
    {
     "name": "stdout",
     "output_type": "stream",
     "text": [
      "请输入第一种大米重量、价钱：40,40\n",
      "请输入第二种大米重量、价钱：40,60\n",
      "第一种更好\n"
     ]
    }
   ],
   "source": [
    "weight_one,price_one = eval(input(\"请输入第一种大米重量、价钱：\"))\n",
    "weight_two,price_two = eval(input(\"请输入第二种大米重量、价钱：\"))\n",
    "if weight_one == weight_two:\n",
    "    if price_one < price_two:\n",
    "        print(\"第一种更好\")\n",
    "elif price_one > price_two:\n",
    "    print(\"第二种更好\")"
   ]
  },
  {
   "cell_type": "markdown",
   "metadata": {},
   "source": [
    "- 6\n",
    "![](../Photo/47.png)"
   ]
  },
  {
   "cell_type": "code",
   "execution_count": 20,
   "metadata": {},
   "outputs": [
    {
     "name": "stdout",
     "output_type": "stream",
     "text": [
      "请输入月份：5\n",
      "请输入年：2009\n",
      "此月31天\n",
      "请输入月份：8\n",
      "请输入年：2001\n",
      "此月31天\n"
     ]
    }
   ],
   "source": [
    "for i in range(0,2):\n",
    "    month = eval(input(\"请输入月份：\"))\n",
    "    year = eval(input(\"请输入年：\"))\n",
    "    year_first = year % 400\n",
    "    year_second = year % 4\n",
    "    year_third = year % 100\n",
    "    if (year_first == 0) or (year_second == 0 and year_third != 0):\n",
    "        if month != 2:\n",
    "            if (month == 1 or month == 3 or month == 5 or month == 7 or month == 8 or month == 10 or month == 12):\n",
    "                print(\"此月31天\")\n",
    "            else:\n",
    "                print(\"此月30天\")\n",
    "        else:\n",
    "            print(\"此月29天\")\n",
    "    else:\n",
    "        if month != 2:\n",
    "            if (month == 1 or month == 3 or month == 5 or month == 7 or month == 8 or month == 10 or month == 12):\n",
    "                print(\"此月31天\")\n",
    "            else:\n",
    "                print(\"此月30天\")\n",
    "        else:\n",
    "            print(\"此月28天\")"
   ]
  },
  {
   "cell_type": "markdown",
   "metadata": {},
   "source": [
    "- 7\n",
    "![](../Photo/48.png)"
   ]
  },
  {
   "cell_type": "code",
   "execution_count": 22,
   "metadata": {},
   "outputs": [
    {
     "name": "stdout",
     "output_type": "stream",
     "text": [
      "猜是正面or反面(0/1);1\n",
      "right\n"
     ]
    }
   ],
   "source": [
    "import random\n",
    "number = random.randint(0,1)\n",
    "yingbi=eval(input('猜是正面or反面(0/1);'))\n",
    "if number==yingbi:\n",
    "    print('right')\n",
    "else:\n",
    "    print('wrong')"
   ]
  },
  {
   "cell_type": "markdown",
   "metadata": {},
   "source": [
    "- 8\n",
    "![](../Photo/49.png)"
   ]
  },
  {
   "cell_type": "code",
   "execution_count": 21,
   "metadata": {},
   "outputs": [
    {
     "name": "stdout",
     "output_type": "stream",
     "text": [
      "输入0（剪刀），1（石头）或2（布）： 1\n",
      "你输了\n"
     ]
    }
   ],
   "source": [
    "import random\n",
    "num = random.randint(0,2)\n",
    "num_1 = eval(input('输入0（剪刀），1（石头）或2（布）： '))\n",
    "if (num_1==0 and num==0) or (num_1==1 and num==1) or (num_1==2 and num==2):\n",
    "    print(\"平局\")\n",
    "elif (num_1==0 and num==1) or (num_1==1 and num == 2) or (num_1==2 and num == 0):\n",
    "    print(\"你输了\")\n",
    "elif (num_1==0 and num==2) or (num_1==1 and num == 0) or (num_1==2 and num == 1):\n",
    "    print(\"你赢了\")"
   ]
  },
  {
   "cell_type": "markdown",
   "metadata": {},
   "source": [
    "- 9\n",
    "![](../Photo/50.png)"
   ]
  },
  {
   "cell_type": "code",
   "execution_count": null,
   "metadata": {},
   "outputs": [],
   "source": []
  },
  {
   "cell_type": "markdown",
   "metadata": {},
   "source": [
    "- 10\n",
    "![](../Photo/51.png)"
   ]
  },
  {
   "cell_type": "code",
   "execution_count": 25,
   "metadata": {},
   "outputs": [
    {
     "name": "stdout",
     "output_type": "stream",
     "text": [
      "梅花4\n"
     ]
    }
   ],
   "source": [
    "import random\n",
    "color = random.randint(0,4)\n",
    "value = random.randint(0,12)\n",
    "flower_color = ['黑桃','红桃','方块','梅花']\n",
    "card = ['A','2','3','4','5','6','7','8','9','10','J','Q','K']\n",
    "print(flower_color[color]+card[value])"
   ]
  },
  {
   "cell_type": "markdown",
   "metadata": {},
   "source": [
    "- 11\n",
    "![](../Photo/52.png)"
   ]
  },
  {
   "cell_type": "code",
   "execution_count": 28,
   "metadata": {},
   "outputs": [
    {
     "name": "stdout",
     "output_type": "stream",
     "text": [
      "请输入一个整数444\n",
      "444 is a palindrome\n"
     ]
    }
   ],
   "source": [
    "num = input('请输入一个整数')\n",
    "if num[0] == num[2]:\n",
    "    print(num,\"is a palindrome\")\n",
    "else:\n",
    "    print(num,\"is not a palindrome\")"
   ]
  },
  {
   "cell_type": "markdown",
   "metadata": {},
   "source": [
    "- 12\n",
    "![](../Photo/53.png)"
   ]
  },
  {
   "cell_type": "code",
   "execution_count": 31,
   "metadata": {},
   "outputs": [
    {
     "name": "stdout",
     "output_type": "stream",
     "text": [
      "输入三角形三个边3,4,5\n",
      "周长为 12\n"
     ]
    }
   ],
   "source": [
    "a,b,c = eval(input('输入三角形三个边'))\n",
    "if (a+b)>c and (a+c)>b and (c+b)>a:\n",
    "    perimeter = a+b+c\n",
    "    print('周长为',perimeter)\n",
    "else:\n",
    "    print('不是三角形')"
   ]
  }
 ],
 "metadata": {
  "kernelspec": {
   "display_name": "Python 3",
   "language": "python",
   "name": "python3"
  }
 },
 "nbformat": 4,
 "nbformat_minor": 2
}
